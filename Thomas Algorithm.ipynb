{
 "cells": [
  {
   "cell_type": "markdown",
   "metadata": {},
   "source": [
    "## Thomas Algorithm"
   ]
  },
  {
   "cell_type": "code",
   "execution_count": 1,
   "metadata": {},
   "outputs": [],
   "source": [
    "def TDMA(a,b,c,d):\n",
    "    n = len(d)\n",
    "    w= np.zeros(n-1,float)\n",
    "    g= np.zeros(n, float)\n",
    "    p = np.zeros(n,float)\n",
    "\n",
    "    w[0] = c[0]/b[0]\n",
    "    g[0] = d[0]/b[0]\n",
    "\n",
    "    for i in range(1,n-1):\n",
    "        w[i] = c[i]/(b[i] - a[i-1]*w[i-1])\n",
    "    for i in range(1,n):\n",
    "        g[i] = (d[i] - a[i-1]*g[i-1])/(b[i] - a[i-1]*w[i-1])\n",
    "    p[n-1] = g[n-1]\n",
    "    for i in range(n-1,0,-1):\n",
    "        p[i-1] = g[i-1] - w[i-1]*p[i]\n",
    "    return p"
   ]
  }
 ],
 "metadata": {
  "kernelspec": {
   "display_name": "Python 3",
   "language": "python",
   "name": "python3"
  },
  "language_info": {
   "codemirror_mode": {
    "name": "ipython",
    "version": 3
   },
   "file_extension": ".py",
   "mimetype": "text/x-python",
   "name": "python",
   "nbconvert_exporter": "python",
   "pygments_lexer": "ipython3",
   "version": "3.8.3"
  }
 },
 "nbformat": 4,
 "nbformat_minor": 4
}
