{
 "cells": [
  {
   "cell_type": "markdown",
   "metadata": {},
   "source": [
    "## Boundary Layer Equation Problem"
   ]
  },
  {
   "cell_type": "code",
   "execution_count": null,
   "metadata": {},
   "outputs": [],
   "source": [
    "import numpy as np\n",
    "import math\n",
    "import matplotlib.pyplot as plt"
   ]
  },
  {
   "cell_type": "code",
   "execution_count": null,
   "metadata": {},
   "outputs": [],
   "source": [
    "# parameters and initialization\n",
    "M = 100    # number of steps on x axis which is delta x\n",
    "N = 50     # number of steps on y axis\n",
    "x = 0.1      # length of x\n",
    "y = 1        # length of y\n",
    "dx = x / M   # step size of x axis, we only consider one step \n",
    "dy = y / N   # step size of y axis, where y is from 0 to 1\n",
    "\n",
    "# pressures of the first three\n",
    "p_0 = 0  #update p_0\n",
    "p_1 = 0.01\n",
    "p_2 = 0.02"
   ]
  },
  {
   "cell_type": "code",
   "execution_count": 11,
   "metadata": {},
   "outputs": [],
   "source": [
    "# Thomas algorithm function\n",
    "def TDMA(a,b,c,d):\n",
    "    n = len(d)\n",
    "    w= np.zeros(n-1,float)\n",
    "    g= np.zeros(n, float)\n",
    "    p = np.zeros(n,float)\n",
    "\n",
    "    w[0] = c[0]/b[0]\n",
    "    g[0] = d[0]/b[0]\n",
    "\n",
    "    for i in range(1,n-1):\n",
    "        w[i] = c[i]/(b[i] - a[i-1]*w[i-1])\n",
    "    for i in range(1,n):\n",
    "        g[i] = (d[i] - a[i-1]*g[i-1])/(b[i] - a[i-1]*w[i-1])\n",
    "    p[n-1] = g[n-1]\n",
    "    for i in range(n-1,0,-1):\n",
    "        p[i-1] = g[i-1] - w[i-1]*p[i]\n",
    "    return p"
   ]
  },
  {
   "cell_type": "code",
   "execution_count": 12,
   "metadata": {},
   "outputs": [],
   "source": [
    "# function to delete first and last row\n",
    "def row_delete(A, N):\n",
    "    A = np.delete(A, 0, axis = 0)\n",
    "    A = np.delete(A, N, axis = 0)\n",
    "    return A"
   ]
  },
  {
   "cell_type": "code",
   "execution_count": 13,
   "metadata": {},
   "outputs": [],
   "source": [
    "# function about tridiagional matrix\n",
    "def tridiagional_matrix(u, v, p_guess,p_correct, N):\n",
    "    # main diagional\n",
    "    main_old = np.zeros(N + 1)\n",
    "    for i in range(1, N):\n",
    "        main_old[i] = u[i] / dx + 2 / (dy ** 2)\n",
    "    main = row_delete(main_old, N - 1)\n",
    "\n",
    "    # upper diagional\n",
    "    upper_old = np.zeros(N)\n",
    "    for i in range(1, N):\n",
    "        upper_old[i] = (v[i] / (2 * dy) - 1 / (dy ** 2))\n",
    "    upper = row_delete(upper_old, N - 2)\n",
    "    \n",
    "    # lower diagional\n",
    "    lower_old = np.zeros(N)\n",
    "    for i in range(1, N):\n",
    "        lower_old[i] = (- v[i] / (2 * dy) - 1 / (dy ** 2))\n",
    "    lower = row_delete(lower_old, N - 2)   \n",
    "    \n",
    "    # RHS\n",
    "    RHS_old = np.zeros(N + 1)\n",
    "    for i in range(1, N - 1):\n",
    "        RHS_old[i] = u[i] ** 2 / dx - (p_guess - p_correct) / dx\n",
    "    RHS = row_delete(RHS_old, N - 1)\n",
    "    return lower, main, upper, RHS"
   ]
  },
  {
   "cell_type": "code",
   "execution_count": 14,
   "metadata": {},
   "outputs": [],
   "source": [
    "# function to update the velocity of u\n",
    "def u_next_step(lower, main, upper, RHS):\n",
    "    sol = np.zeros(N - 1)  # 49\n",
    "    sol = TDMA(lower,main,upper,RHS)\n",
    "    u = np.zeros(N + 1)    # 51\n",
    "    for i in range(1,N):   # 49\n",
    "        u[i] = sol[i - 1]\n",
    "    return u"
   ]
  },
  {
   "cell_type": "code",
   "execution_count": 15,
   "metadata": {},
   "outputs": [],
   "source": [
    "# function to update the velocity of v\n",
    "def v_next_step(v, u_update, u):\n",
    "    for i in range(1, N):\n",
    "        v[i] = v[i - 1] - 0.5 * dy * ((u_update[i] - u[i]) / dx + (u_update[i - 1] - u[i - 1]) / dx)\n",
    "    return v"
   ]
  },
  {
   "cell_type": "code",
   "execution_count": 16,
   "metadata": {},
   "outputs": [],
   "source": [
    "# function to more steps \n",
    "def iteration(M, N):\n",
    "    u_current = np.zeros(N + 1)    \n",
    "    for i in range(1, N):\n",
    "         u_current[i] = math.sin(math.pi * i * 0.02)\n",
    "    v_current = np.zeros(N + 1)\n",
    "    \n",
    "    u_current_2 = np.zeros(N + 1)    \n",
    "    for i in range(1, N):\n",
    "        u_current_2[i] = math.sin(math.pi * i * 0.02)\n",
    "    v_current_2 = np.zeros(N + 1)\n",
    "    \n",
    "    p_correct = 0\n",
    "    \n",
    "    for j in range(0, M):\n",
    "        # get updated u and v with p_guess = 0.01\n",
    "        coef = tridiagional_matrix(u_current, v_current, 0.01, p_correct, N)\n",
    "        lower = coef[0]\n",
    "        main = coef[1]\n",
    "        upper = coef[2]\n",
    "        RHS = coef[3]\n",
    "        u_update = u_next_step(lower, main, upper, RHS)\n",
    "        v_update = v_next_step(v_current, u_update, u_current)\n",
    "        u_current = u_update\n",
    "        v_current = v_update \n",
    "        \n",
    "        # get updated u and v with p_guess = 0.02\n",
    "        coef_2 = tridiagional_matrix(u_current_2, v_current_2, 0.02, p_correct, N)\n",
    "        lower_2 = coef_2[0]\n",
    "        main_2 = coef_2[1]\n",
    "        upper_2 = coef_2[2]\n",
    "        RHS_2 = coef_2[3]\n",
    "        u_update_2 = u_next_step(lower_2, main_2, upper_2, RHS_2)\n",
    "        v_update_2 = v_next_step(v_current_2, u_update_2, u_current_2)\n",
    "        u_current_2 = u_update_2\n",
    "        v_current_2 = v_update_2\n",
    "        \n",
    "        # get p_correct\n",
    "        denom = v_update_2[N-1] - v_update[N-1]\n",
    "        numer = 0.01*v_update_2[N-1] - 0.02*v_update[N-1]\n",
    "        p_correct = numer/denom\n",
    "    return v_current, v_current_2, p_correct"
   ]
  }
 ],
 "metadata": {
  "kernelspec": {
   "display_name": "Python 3",
   "language": "python",
   "name": "python3"
  },
  "language_info": {
   "codemirror_mode": {
    "name": "ipython",
    "version": 3
   },
   "file_extension": ".py",
   "mimetype": "text/x-python",
   "name": "python",
   "nbconvert_exporter": "python",
   "pygments_lexer": "ipython3",
   "version": "3.8.3"
  }
 },
 "nbformat": 4,
 "nbformat_minor": 4
}
